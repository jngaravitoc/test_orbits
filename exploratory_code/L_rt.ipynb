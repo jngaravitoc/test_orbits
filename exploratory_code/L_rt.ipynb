{
 "cells": [
  {
   "cell_type": "code",
   "execution_count": 1,
   "metadata": {
    "collapsed": false
   },
   "outputs": [
    {
     "name": "stderr",
     "output_type": "stream",
     "text": [
      "/usr/local/lib/python3.4/dist-packages/matplotlib/__init__.py:841: UserWarning: Found matplotlib configuration in ~/.matplotlib/. To conform with the XDG base directory standard, this configuration location has been deprecated on Linux, and the new location is now /home/ngaravito/.config/matplotlib/. Please move your configuration there to ensure that matplotlib will continue to find it in the future.\n",
      "  _get_xdg_config_dir())\n"
     ]
    },
    {
     "name": "stdout",
     "output_type": "stream",
     "text": [
      "Populating the interactive namespace from numpy and matplotlib\n"
     ]
    }
   ],
   "source": [
    "%pylab inline\n"
   ]
  },
  {
   "cell_type": "code",
   "execution_count": 55,
   "metadata": {
    "collapsed": true
   },
   "outputs": [],
   "source": [
    "font = {'size':18, 'family':'serif'}\n",
    "plt.matplotlib.rc('font', **font)"
   ]
  },
  {
   "cell_type": "markdown",
   "metadata": {},
   "source": [
    "# To-Do:\n",
    "\n",
    "1. Compute the angle for all the LMC models.\n",
    "2. think about on the orientation of the orbit. Maybe it is already taken into account in the angle, but check this!"
   ]
  },
  {
   "cell_type": "code",
   "execution_count": 75,
   "metadata": {
    "collapsed": true
   },
   "outputs": [],
   "source": [
    "\n",
    "\n",
    "def r_peri(rgal):\n",
    "    return min(rgal)\n",
    "    \n",
    "def tidal_radius(Mmw, Msat, rperi, Mb, Md, c):\n",
    "    Mmw_peri = soda.profiles.mass_NFW(c, 0,0,rperi, Mmw) + Mb + Md\n",
    "    #r_t = rperi*(Msat/(2.*Mmw_peri))**(1/3.)\n",
    "    r_t = rperi*(Msat/(2.*Mmw_peri))**(1/3.)\n",
    "    return r_t\n",
    "\n",
    "def angular_m(r, v):\n",
    "    L = np.cross(r,v)\n",
    "    return L/np.linalg.norm(L)"
   ]
  },
  {
   "cell_type": "code",
   "execution_count": 46,
   "metadata": {
    "collapsed": true
   },
   "outputs": [],
   "source": [
    "def read_data_sag(filename):\n",
    "    data = np.loadtxt(filename)\n",
    "    t = data[:,0]\n",
    "    x_ngc = data[:,1]\n",
    "    y_ngc = data[:,2]\n",
    "    z_ngc = data[:,3]\n",
    "\n",
    "    vx_ngc = data[:,4]\n",
    "    vy_ngc = data[:,5]\n",
    "    vz_ngc = data[:,6]\n",
    "\n",
    "\n",
    "    x_sag = data[:,7]\n",
    "    y_sag = data[:,8]\n",
    "    z_sag = data[:,9]\n",
    "\n",
    "    vx_sag = data[:,10]\n",
    "    vy_sag = data[:,11]\n",
    "    vz_sag = data[:,12]\n",
    "\n",
    "    r_ngc = np.array([x_ngc, y_ngc, z_ngc]).T\n",
    "    v_ngc = np.array([vx_ngc, vy_ngc, vz_ngc]).T\n",
    "\n",
    "    r_sag = np.array([x_sag, y_sag, z_sag]).T\n",
    "    v_sag = np.array([vx_sag, vy_sag, vz_sag]).T\n",
    "    \n",
    "    return t, r_ngc,  v_ngc, r_sag, v_sag\n",
    "\n",
    "def orbits_ang(filename):\n",
    "    t, r1, v1, r2, v2 = read_data_sag(filename)\n",
    "    L_NGC = angular_m(r1, v1)\n",
    "    L_sag = angular_m(r2, v2)\n",
    "    orb_dot = np.zeros(len(t))\n",
    "    for i in range(len(t)):\n",
    "        norm_NGC =  np.linalg.norm(L_NGC[i])\n",
    "        norm_sag =  np.linalg.norm(L_sag[i])\n",
    "        orb_dot[i] = np.dot(L_NGC[i]/norm_NGC, L_sag[i]/norm_sag)\n",
    "    return t, arccos(orb_dot)*180/np.pi"
   ]
  },
  {
   "cell_type": "code",
   "execution_count": 74,
   "metadata": {
    "collapsed": false
   },
   "outputs": [
    {
     "data": {
      "text/plain": [
       "<matplotlib.text.Text at 0x7fc0f846c0b8>"
      ]
     },
     "execution_count": 74,
     "metadata": {},
     "output_type": "execute_result"
    },
    {
     "data": {
      "image/png": "[encoded data removed]",
      "text/plain": [
       "<matplotlib.figure.Figure at 0x7fc0f892b160>"
      ]
     },
     "metadata": {},
     "output_type": "display_data"
    }
   ],
   "source": [
    "t, Lh = orbits_ang('MWhSgr_ICs0.txt')\n",
    "t2, Ll = orbits_ang('MWlSgr_ICs0')\n",
    "\n",
    "plt.figure(figsize=(6,5))\n",
    "plt.plot(t2, Ll, label='Model1')\n",
    "plt.plot(t, Lh,label='Model2')\n",
    "plt.legend(loc='best', ncol=2)\n",
    "ylim(40, 70)\n",
    "xlabel('$t[Gyrs]$')\n",
    "ylabel(r'$Orbits\\ angle( \\theta$)')"
   ]
  },
  {
   "cell_type": "code",
   "execution_count": null,
   "metadata": {
    "collapsed": true
   },
   "outputs": [],
   "source": []
  }
 ],
 "metadata": {
  "kernelspec": {
   "display_name": "Python 3",
   "language": "python",
   "name": "python3"
  },
  "language_info": {
   "codemirror_mode": {
    "name": "ipython",
    "version": 3
   },
   "file_extension": ".py",
   "mimetype": "text/x-python",
   "name": "python",
   "nbconvert_exporter": "python",
   "pygments_lexer": "ipython3",
   "version": "3.4.3"
  }
 },
 "nbformat": 4,
 "nbformat_minor": 0
}
