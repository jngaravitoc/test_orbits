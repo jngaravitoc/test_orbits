{
 "cells": [
  {
   "cell_type": "code",
   "execution_count": 2,
   "metadata": {
    "collapsed": false
   },
   "outputs": [
    {
     "name": "stdout",
     "output_type": "stream",
     "text": [
      "Populating the interactive namespace from numpy and matplotlib\n"
     ]
    }
   ],
   "source": [
    "%pylab inline"
   ]
  },
  {
   "cell_type": "code",
   "execution_count": 24,
   "metadata": {
    "collapsed": false
   },
   "outputs": [],
   "source": [
    "def fx(x):\n",
    "    f = np.log(1.+x) - (x / (1. + x))\n",
    "    return f\n",
    "\n",
    "# Function that computes the c200 for the NFW\n",
    "def c(cvir, c200):\n",
    "    q = 2.058\n",
    "    y = (c200 / cvir) - (fx(c200) / (q * fx(cvir)))**(1./3.)\n",
    "    return y\n",
    "\n",
    "\n",
    "# Function to compute the c200\n",
    "def bissection(cvir):\n",
    "    min_c200 = 0.1\n",
    "    max_c200 = cvir\n",
    "    c_init = 0.5*(min_c200 + max_c200)\n",
    "    y = c(cvir, c_init)\n",
    "    while abs(y) > 0.000002:\n",
    "        #print c_init\n",
    "        if y>0:\n",
    "            max_c200 = c_init\n",
    "        if y<0:\n",
    "            min_c200 = c_init\n",
    "        c_init = 0.5*(min_c200 + max_c200)\n",
    "        y = c(cvir, c_init)\n",
    "    return c_init\n",
    "\n",
    "\n",
    "def m200mvir(c200, cvir):\n",
    "    x = fx(c200) / fx(cvir)\n",
    "    return x\n",
    "\n",
    "def r_vir(Mvir):\n",
    "    h = 0.704\n",
    "    Omega0= 0.27\n",
    "    rv = 206/h * (360 * Omega0 / 97.2)**(-1.0/3.0) * (Mvir*h/(1E12))**(1.0/3.0) \n",
    "    return rv"
   ]
  },
  {
   "cell_type": "markdown",
   "metadata": {},
   "source": [
    "# $M_{200} / M_{vir} = f(c_{200})/f(c_{vir})$"
   ]
  },
  {
   "cell_type": "code",
   "execution_count": 17,
   "metadata": {
    "collapsed": false
   },
   "outputs": [
    {
     "data": {
      "text/plain": [
       "20.008752632141118"
      ]
     },
     "execution_count": 17,
     "metadata": {},
     "output_type": "execute_result"
    }
   ],
   "source": [
    "bissection(26.45)"
   ]
  },
  {
   "cell_type": "code",
   "execution_count": 19,
   "metadata": {
    "collapsed": false
   },
   "outputs": [
    {
     "data": {
      "text/plain": [
       "1459478182512.3325"
      ]
     },
     "execution_count": 19,
     "metadata": {},
     "output_type": "execute_result"
    }
   ],
   "source": [
    "1.3E12/ m200mvir(20, 26.45)"
   ]
  },
  {
   "cell_type": "code",
   "execution_count": 25,
   "metadata": {
    "collapsed": false
   },
   "outputs": [
    {
     "data": {
      "text/plain": [
       "295.2690884685796"
      ]
     },
     "execution_count": 25,
     "metadata": {},
     "output_type": "execute_result"
    }
   ],
   "source": [
    "r_vir(1459478182512.3325)"
   ]
  },
  {
   "cell_type": "code",
   "execution_count": null,
   "metadata": {
    "collapsed": true
   },
   "outputs": [],
   "source": []
  }
 ],
 "metadata": {
  "kernelspec": {
   "display_name": "Python 3",
   "language": "python",
   "name": "python3"
  },
  "language_info": {
   "codemirror_mode": {
    "name": "ipython",
    "version": 3
   },
   "file_extension": ".py",
   "mimetype": "text/x-python",
   "name": "python",
   "nbconvert_exporter": "python",
   "pygments_lexer": "ipython3",
   "version": "3.4.3"
  }
 },
 "nbformat": 4,
 "nbformat_minor": 0
}
