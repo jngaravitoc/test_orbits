{
 "cells": [
  {
   "cell_type": "code",
   "execution_count": 1,
   "metadata": {
    "collapsed": false
   },
   "outputs": [
    {
     "name": "stderr",
     "output_type": "stream",
     "text": [
      "/usr/local/lib/python3.4/dist-packages/matplotlib/__init__.py:841: UserWarning: Found matplotlib configuration in ~/.matplotlib/. To conform with the XDG base directory standard, this configuration location has been deprecated on Linux, and the new location is now /home/ngaravito/.config/matplotlib/. Please move your configuration there to ensure that matplotlib will continue to find it in the future.\n",
      "  _get_xdg_config_dir())\n"
     ]
    },
    {
     "name": "stdout",
     "output_type": "stream",
     "text": [
      "Populating the interactive namespace from numpy and matplotlib\n"
     ]
    }
   ],
   "source": [
    "%pylab inline\n",
    "\n",
    "\n",
    "font = {'size':18, 'family':'serif'}\n",
    "plt.matplotlib.rc('font', **font)"
   ]
  },
  {
   "cell_type": "markdown",
   "metadata": {},
   "source": [
    "## Basic alogirhtm to found the number of pericenter passages $N_{peri}$, the\n",
    "## pericenter radius $r_{peri}$, the apocenter radius $r_{apo}$ and the time of pericenter\n",
    "## and apocenter."
   ]
  },
  {
   "cell_type": "code",
   "execution_count": 2,
   "metadata": {
    "collapsed": true
   },
   "outputs": [],
   "source": [
    "def read_data_sag(filename):\n",
    "    data = np.loadtxt(filename)\n",
    "    t = data[:,0]\n",
    "    x_ngc = data[:,1]\n",
    "    y_ngc = data[:,2]\n",
    "    z_ngc = data[:,3]\n",
    "\n",
    "    vx_ngc = data[:,4]\n",
    "    vy_ngc = data[:,5]\n",
    "    vz_ngc = data[:,6]\n",
    "\n",
    "\n",
    "    x_sag = data[:,7]\n",
    "    y_sag = data[:,8]\n",
    "    z_sag = data[:,9]\n",
    "\n",
    "    vx_sag = data[:,10]\n",
    "    vy_sag = data[:,11]\n",
    "    vz_sag = data[:,12]\n",
    "\n",
    "    r_ngc = np.array([x_ngc, y_ngc, z_ngc]).T\n",
    "    v_ngc = np.array([vx_ngc, vy_ngc, vz_ngc]).T\n",
    "\n",
    "    r_sag = np.array([x_sag, y_sag, z_sag]).T\n",
    "    v_sag = np.array([vx_sag, vy_sag, vz_sag]).T\n",
    "    \n",
    "    return t, r_ngc,  v_ngc, r_sag, v_sag\n"
   ]
  },
  {
   "cell_type": "code",
   "execution_count": 118,
   "metadata": {
    "collapsed": true
   },
   "outputs": [],
   "source": [
    "t, r_ngc, v_ngc, r_sag, v_sag = read_data_sag('MWlLMC0Sgr_ICs0.txt')\n"
   ]
  },
  {
   "cell_type": "code",
   "execution_count": 119,
   "metadata": {
    "collapsed": false
   },
   "outputs": [],
   "source": [
    "def orbit_analysis(R_sag):\n",
    "    \"\"\"\n",
    "    Function that computes the pericenters and apocenters of orbits\n",
    "    \n",
    "    input: galactocentric distance\n",
    "    \n",
    "    output:\n",
    "    ------\n",
    "    \n",
    "    N_peris: Number of percienters.\n",
    "    t_peri: Time at which the percienters occure.\n",
    "    r_peri: Radius of pericenters.\n",
    "    N_apos: Number of apocenters.\n",
    "    t_apo: Time at which the apocenters occure.\n",
    "    r_apo: Radius of apocenters.\n",
    " \n",
    "    \"\"\"\n",
    "    \n",
    "    t_peri = []\n",
    "    r_peri = []\n",
    "    \n",
    "    t_apo = []\n",
    "    r_apo = []\n",
    "    for i in range(1,len(R_sag)-1,2):\n",
    "        # The condition bellow can be accomplish by two nearby points \n",
    "        # therefore doing the increase by more than 1 is better.\n",
    "        # the lower the resoution in time the decrease the number.\n",
    "        if ((R_sag[i]<R_sag[i+2]) & (R_sag[i]<R_sag[i-2])):\n",
    "            # \n",
    "            r_peri.append(R_sag[i])\n",
    "            t_peri.append(t[i])\n",
    "            \n",
    "            \n",
    "        if ((R_sag[i]>R_sag[i+2]) & (R_sag[i]>R_sag[i-2])):\n",
    "            # \n",
    "            r_apo.append(R_sag[i])\n",
    "            t_apo.append(t[i])\n",
    "            \n",
    "    N_peris = len(t_peri)\n",
    "    N_apos = len(t_apo)\n",
    "\n",
    "    return N_peris, t_peri, r_peri, N_apos, t_apo, r_apo"
   ]
  },
  {
   "cell_type": "code",
   "execution_count": 123,
   "metadata": {
    "collapsed": false
   },
   "outputs": [
    {
     "name": "stdout",
     "output_type": "stream",
     "text": [
      "CPU times: user 3.2 ms, sys: 0 ns, total: 3.2 ms\n",
      "Wall time: 2.39 ms\n",
      "3 2\n"
     ]
    }
   ],
   "source": [
    "R_sag = (r_sag[:,0]**2+r_sag[:,1]**2+r_sag[:,2]**2)**0.5\n",
    "%time Nperi, tperi, rperi, Napo, tapo, rapo = orbit_analysis(R_sag) \n",
    "print(Nperi, Napo)"
   ]
  },
  {
   "cell_type": "code",
   "execution_count": 122,
   "metadata": {
    "collapsed": false
   },
   "outputs": [
    {
     "data": {
      "image/png": "[encoded data removed]",
      "text/plain": [
       "<matplotlib.figure.Figure at 0x7fc889a66da0>"
      ]
     },
     "metadata": {},
     "output_type": "display_data"
    }
   ],
   "source": [
    "plot(t,(r_sag[:,0]**2+r_sag[:,1]**2+r_sag[:,2]**2)**0.5)\n",
    "for i in range(len(tperi)):\n",
    "    plt.axvline(tperi[i])\n",
    "    \n",
    "for i in range(len(tapo)):\n",
    "    plt.axvline(tapo[i], c='r') "
   ]
  },
  {
   "cell_type": "code",
   "execution_count": 127,
   "metadata": {
    "collapsed": false
   },
   "outputs": [
    {
     "data": {
      "text/plain": [
       "98.959418606059444"
      ]
     },
     "execution_count": 127,
     "metadata": {},
     "output_type": "execute_result"
    }
   ],
   "source": [
    "np.mean(rperi)\n",
    "np.mean(rapo)"
   ]
  },
  {
   "cell_type": "code",
   "execution_count": null,
   "metadata": {
    "collapsed": true
   },
   "outputs": [],
   "source": []
  }
 ],
 "metadata": {
  "kernelspec": {
   "display_name": "Python 3",
   "language": "python",
   "name": "python3"
  },
  "language_info": {
   "codemirror_mode": {
    "name": "ipython",
    "version": 3
   },
   "file_extension": ".py",
   "mimetype": "text/x-python",
   "name": "python",
   "nbconvert_exporter": "python",
   "pygments_lexer": "ipython3",
   "version": "3.4.3"
  }
 },
 "nbformat": 4,
 "nbformat_minor": 0
}
