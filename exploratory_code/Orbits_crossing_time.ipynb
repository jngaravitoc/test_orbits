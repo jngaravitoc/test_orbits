{
 "cells": [
  {
   "cell_type": "code",
   "execution_count": 1,
   "metadata": {
    "collapsed": false
   },
   "outputs": [
    {
     "name": "stderr",
     "output_type": "stream",
     "text": [
      "/usr/local/lib/python3.4/dist-packages/matplotlib/__init__.py:841: UserWarning: Found matplotlib configuration in ~/.matplotlib/. To conform with the XDG base directory standard, this configuration location has been deprecated on Linux, and the new location is now /home/ngaravito/.config/matplotlib/. Please move your configuration there to ensure that matplotlib will continue to find it in the future.\n",
      "  _get_xdg_config_dir())\n"
     ]
    },
    {
     "name": "stdout",
     "output_type": "stream",
     "text": [
      "Populating the interactive namespace from numpy and matplotlib\n"
     ]
    }
   ],
   "source": [
    "%pylab inline\n",
    "\n",
    "\n",
    "font = {'size':18, 'family':'serif'}\n",
    "plt.matplotlib.rc('font', **font)"
   ]
  },
  {
   "cell_type": "code",
   "execution_count": 2,
   "metadata": {
    "collapsed": true
   },
   "outputs": [],
   "source": [
    "def read_data_sag(filename):\n",
    "    data = np.loadtxt(filename)\n",
    "    t = data[:,0]\n",
    "    x_ngc = data[:,1]\n",
    "    y_ngc = data[:,2]\n",
    "    z_ngc = data[:,3]\n",
    "\n",
    "    vx_ngc = data[:,4]\n",
    "    vy_ngc = data[:,5]\n",
    "    vz_ngc = data[:,6]\n",
    "\n",
    "\n",
    "    x_sag = data[:,7]\n",
    "    y_sag = data[:,8]\n",
    "    z_sag = data[:,9]\n",
    "\n",
    "    vx_sag = data[:,10]\n",
    "    vy_sag = data[:,11]\n",
    "    vz_sag = data[:,12]\n",
    "\n",
    "    r_ngc = np.array([x_ngc, y_ngc, z_ngc]).T\n",
    "    v_ngc = np.array([vx_ngc, vy_ngc, vz_ngc]).T\n",
    "\n",
    "    r_sag = np.array([x_sag, y_sag, z_sag]).T\n",
    "    v_sag = np.array([vx_sag, vy_sag, vz_sag]).T\n",
    "    \n",
    "    return t, r_ngc,  v_ngc, r_sag, v_sag\n"
   ]
  },
  {
   "cell_type": "code",
   "execution_count": 28,
   "metadata": {
    "collapsed": false
   },
   "outputs": [],
   "source": [
    "t, r_ngc, v_ngc, r_sag, v_sag = read_data_sag('MWlSgr_ICs0')\n"
   ]
  },
  {
   "cell_type": "code",
   "execution_count": 29,
   "metadata": {
    "collapsed": false
   },
   "outputs": [
    {
     "data": {
      "text/plain": [
       "[<matplotlib.lines.Line2D at 0x7fb308a544e0>]"
      ]
     },
     "execution_count": 29,
     "metadata": {},
     "output_type": "execute_result"
    },
    {
     "data": {
      "image/png": "[encoded data removed]",
      "text/plain": [
       "<matplotlib.figure.Figure at 0x7fb308a54518>"
      ]
     },
     "metadata": {},
     "output_type": "display_data"
    }
   ],
   "source": [
    "plot(t,(r_sag[:,0]**2+r_sag[:,1]**2+r_sag[:,2]**2)**0.5)\n",
    "plot(t, (r_ngc[:,0]**2+r_ngc[:,1]**2+r_ngc[:,2]**2)**0.5)\n"
   ]
  },
  {
   "cell_type": "code",
   "execution_count": 30,
   "metadata": {
    "collapsed": false
   },
   "outputs": [],
   "source": [
    "def distance(xyzMW, xyzSat):\n",
    "    \"\"\"\n",
    "    Disatnce between two points\n",
    "    \"\"\"\n",
    "    \n",
    "    D = np.sqrt((xyzSat[0]-xyzMW[0])**2 + (xyzSat[1]-xyzMW[1])**2 + (xyzSat[2]-xyzMW[2])**2)\n",
    "                  \n",
    "    return D\n",
    "    "
   ]
  },
  {
   "cell_type": "code",
   "execution_count": 31,
   "metadata": {
    "collapsed": false
   },
   "outputs": [
    {
     "data": {
      "text/plain": [
       "3"
      ]
     },
     "execution_count": 31,
     "metadata": {},
     "output_type": "execute_result"
    }
   ],
   "source": [
    "len(r_ngc[0])"
   ]
  },
  {
   "cell_type": "code",
   "execution_count": 34,
   "metadata": {
    "collapsed": true
   },
   "outputs": [],
   "source": [
    "argmin?"
   ]
  },
  {
   "cell_type": "code",
   "execution_count": 102,
   "metadata": {
    "collapsed": false
   },
   "outputs": [],
   "source": [
    "dist_min = np.zeros(len(r_ngc))\n",
    "t_ngc = np.zeros(len(r_ngc))\n",
    "t_sag = np.zeros(len(r_sag))\n",
    "\n",
    "k=0\n",
    "for i in range(len(r_ngc)):\n",
    "    dist_t = np.ones(len(r_sag))*1000\n",
    "    for j in range(len(r_sag)):\n",
    "        if np.abs(t[i])<=np.abs(t[j]):\n",
    "            dist_t[j] = distance(r_ngc[i], r_sag[j])\n",
    "    dist_min[i] = dist_t[(argmin(dist_t))]\n",
    "    t_sag[i] = t[(argmin(dist_t))]\n",
    "    t_ngc[i] = t[i]"
   ]
  },
  {
   "cell_type": "code",
   "execution_count": 110,
   "metadata": {
    "collapsed": false
   },
   "outputs": [
    {
     "data": {
      "text/plain": [
       "<matplotlib.text.Text at 0x7fb2ee22d748>"
      ]
     },
     "execution_count": 110,
     "metadata": {},
     "output_type": "execute_result"
    },
    {
     "data": {
      "image/png": "[encoded data removed]",
      "text/plain": [
       "<matplotlib.figure.Figure at 0x7fb2ee236d30>"
      ]
     },
     "metadata": {},
     "output_type": "display_data"
    }
   ],
   "source": [
    "plt.figure(figsize=(5,5))\n",
    "#plt.subplot(1, 2, 1)\n",
    "plt.plot(t_ngc, dist_min, c='darkorange')\n",
    "plt.axhline(7.14)\n",
    "plt.xlabel('$NGC\\ time$')\n",
    "plt.ylabel('$Distance\\ from\\ NGC\\ to\\ Sgr$')\n",
    "\n"
   ]
  },
  {
   "cell_type": "code",
   "execution_count": 131,
   "metadata": {
    "collapsed": false
   },
   "outputs": [
    {
     "data": {
      "text/plain": [
       "array([-1.20299995, -1.20299995, -1.20299995, ..., -3.99699998,\n",
       "       -3.99799991, -3.99900007], dtype=float32)"
      ]
     },
     "execution_count": 131,
     "metadata": {},
     "output_type": "execute_result"
    }
   ],
   "source": [
    "np.float32(t_sag)"
   ]
  },
  {
   "cell_type": "code",
   "execution_count": 175,
   "metadata": {
    "collapsed": false
   },
   "outputs": [
    {
     "name": "stdout",
     "output_type": "stream",
     "text": [
      "Time of the orbit of Sag at which NGC cross:\n",
      " [-1.715 -1.716 -1.717 -1.717 -1.718 -1.719 -1.72  -1.721 -1.722 -1.723\n",
      " -1.723 -1.725 -1.725 -1.726 -1.727 -1.728 -1.729 -1.729 -1.731 -1.731\n",
      " -1.732 -1.733 -1.734 -1.735 -1.735 -1.737 -1.737 -1.738 -1.739 -1.739\n",
      " -1.741 -1.741 -1.742 -1.743 -1.744 -1.745 -1.745 -1.746 -1.747 -1.748\n",
      " -1.749 -1.749 -1.75  -1.751 -1.752 -1.753 -1.753 -1.754 -1.755 -1.755\n",
      " -1.757 -3.353 -3.353 -3.354 -3.354 -3.355 -3.355 -3.356 -3.356 -3.357\n",
      " -3.357 -3.358 -3.358 -3.359 -3.359 -3.359 -3.36  -3.36  -3.361 -3.361\n",
      " -3.362 -3.362 -3.363 -3.363 -3.364 -3.364 -3.365 -3.365 -3.366 -3.366\n",
      " -3.367 -3.367 -3.368 -3.368 -3.369 -3.369 -3.37  -3.37  -3.371 -3.371\n",
      " -3.371 -3.372 -3.372 -3.373 -3.373 -3.374 -3.374 -3.375 -3.375 -3.376\n",
      " -3.376 -3.377 -3.377 -3.378 -3.378 -3.379]\n",
      "[-1.715 -1.716 -1.717 -1.717 -1.718 -1.719 -1.72  -1.721 -1.722 -1.723\n",
      " -1.723 -1.725 -1.725 -1.726 -1.727 -1.728 -1.729 -1.729 -1.731 -1.731\n",
      " -1.732 -1.733 -1.734 -1.735 -1.735 -1.737 -1.737 -1.738 -1.739 -1.739\n",
      " -1.741 -1.741 -1.742 -1.743 -1.744 -1.745 -1.745 -1.746 -1.747 -1.748\n",
      " -1.749 -1.749 -1.75  -1.751 -1.752 -1.753 -1.753 -1.754 -1.755 -1.755\n",
      " -1.757 -3.353 -3.353 -3.354 -3.354 -3.355 -3.355 -3.356 -3.356 -3.357\n",
      " -3.357 -3.358 -3.358 -3.359 -3.359 -3.359 -3.36  -3.36  -3.361 -3.361\n",
      " -3.362 -3.362 -3.363 -3.363 -3.364 -3.364 -3.365 -3.365 -3.366 -3.366\n",
      " -3.367 -3.367 -3.368 -3.368 -3.369 -3.369 -3.37  -3.37  -3.371 -3.371\n",
      " -3.371 -3.372 -3.372 -3.373 -3.373 -3.374 -3.374 -3.375 -3.375 -3.376\n",
      " -3.376 -3.377 -3.377 -3.378 -3.378 -3.379]\n",
      "postion of NGC2419 at t_ngc of maximum approach: \n",
      " [[ 18.630817  -2.324968  -7.137375]\n",
      " [ 18.7579    -2.10562   -7.335152]\n",
      " [ 18.882889  -1.886545  -7.531804]\n",
      " [ 19.006888  -1.666869  -7.728162]\n",
      " [ 19.128832  -1.447507  -7.923398]\n",
      " [ 19.249817  -1.227583  -8.118329]\n",
      " [ 19.368788  -1.008012  -8.312139]\n",
      " [ 19.486829  -0.787917  -8.505636]\n",
      " [ 19.602895  -0.56821   -8.698017]\n",
      " [ 19.718062  -0.348015  -8.890076]\n",
      " [ 19.831292  -0.12824   -9.081024]\n",
      " [ 19.943654   0.09199   -9.271644]\n",
      " [ 20.054116   0.311769  -9.461158]\n",
      " [ 20.16374    0.531971  -9.650339]\n",
      " [ 20.271502   0.751694  -9.838421]\n",
      " [ 20.378456   0.971811 -10.026163]\n",
      " [ 20.483583   1.191424 -10.212816]\n",
      " [ 20.587931   1.411404 -10.399125]\n",
      " [ 20.690487   1.630854 -10.584352]\n",
      " [ 20.792294   1.850646 -10.769232]\n",
      " [ 20.892343   2.069887 -10.95304 ]\n",
      " [ 20.991671   2.289445 -11.136497]\n",
      " [ 21.089275   2.508432 -11.318891]\n",
      " [ 21.186184   2.727714 -11.500934]\n",
      " [ 21.281403   2.946406 -11.681922]\n",
      " [ 21.375954   3.165372 -11.862558]\n",
      " [ 21.468845   3.383731 -12.042149]\n",
      " [ 21.561096   3.602344 -12.221386]\n",
      " [ 21.651717   3.820334 -12.39959 ]\n",
      " [ 21.741724   4.038561 -12.577439]\n",
      " [ 21.830131   4.25615  -12.754264]\n",
      " [ 21.917948   4.473958 -12.930735]\n",
      " [ 22.004194   4.691117 -13.106193]\n",
      " [ 22.089875   4.908477 -13.281296]\n",
      " [ 22.174012   5.125176 -13.455398]\n",
      " [ 22.257608   5.342063 -13.629145]\n",
      " [ 22.339689   5.558276 -13.801902]\n",
      " [ 22.42125    5.774664 -13.974305]\n",
      " [ 22.501322   5.990368 -14.145728]\n",
      " [ 22.580897   6.206233 -14.316797]\n",
      " [ 22.659008   6.421406 -14.486899]\n",
      " [ 22.736645   6.636728 -14.656648]\n",
      " [ 22.812842   6.85135  -14.82544 ]\n",
      " [ 22.888585   7.066108 -14.993881]\n",
      " [ 22.962913   7.28016  -15.161376]\n",
      " [ 23.036807   7.494337 -15.32852 ]\n",
      " [ 23.109308   7.707801 -15.49473 ]\n",
      " [ 23.181397   7.92138  -15.660591]\n",
      " [ 23.252114   8.13424  -15.825529]\n",
      " [ 23.322439   8.347207 -15.990119]\n",
      " [ 23.391413   8.559449 -16.153797]\n",
      " [-18.905333   4.927256   3.923961]\n",
      " [-18.803915   4.647758   4.064155]\n",
      " [-18.70389    4.371148   4.203335]\n",
      " [-18.599095   4.090823   4.342563]\n",
      " [-18.495696   3.81346    4.480746]\n",
      " [-18.387477   3.53239    4.618931]\n",
      " [-18.280661   3.254359   4.75604 ]\n",
      " [-18.168975   2.972632   4.893103]\n",
      " [-18.058704   2.694023   5.02906 ]\n",
      " [-17.943515   2.411733   5.164922]\n",
      " [-17.829756   2.132642   5.299648]\n",
      " [-17.711031   1.849888   5.434227]\n",
      " [-17.593758   1.570415   5.567642]\n",
      " [-17.471474   1.287303   5.700859]\n",
      " [-17.350666   1.007553   5.832884]\n",
      " [-17.224806   0.724191   5.964656]\n",
      " [-17.10045    0.444275   6.095211]\n",
      " [-16.971003   0.160777   6.225458]\n",
      " [-16.843095  -0.11919    6.354465]\n",
      " [-16.710059  -0.402706   6.483108]\n",
      " [-16.578602  -0.682606   6.610488]\n",
      " [-16.441984  -0.966019   6.73745 ]\n",
      " [-16.306989  -1.24573    6.863128]\n",
      " [-16.166804  -1.528917   6.988333]\n",
      " [-16.028292  -1.808315   7.112237]\n",
      " [-15.884564  -2.091147   7.235611]\n",
      " [-15.742564  -2.370108   7.35767 ]\n",
      " [-15.595328  -2.652458   7.479144]\n",
      " [-15.449879  -2.930854   7.599292]\n",
      " [-15.299176  -3.212594   7.718801]\n",
      " [-15.150325  -3.490298   7.836975]\n",
      " [-14.996207  -3.771299   7.954456]\n",
      " [-14.844011  -4.048186   8.070599]\n",
      " [-14.686538  -4.328319   8.185996]\n",
      " [-14.531062  -4.604265   8.300055]\n",
      " [-14.370304  -4.883406   8.413317]\n",
      " [-14.21162   -5.158287   8.525243]\n",
      " [-14.047655  -5.436312   8.636323]\n",
      " [-13.885843  -5.710009   8.746075]\n",
      " [-13.718755  -5.9868     8.854934]\n",
      " [-13.553904  -6.259198   8.962475]\n",
      " [-13.383784  -6.534638   9.069078]\n",
      " [-13.215988  -6.805626   9.174379]\n",
      " [-13.042933  -7.079605   9.278698]\n",
      " [-12.872292  -7.349078   9.381733]\n",
      " [-12.696407  -7.62149    9.483745]\n",
      " [-12.523024  -7.889347   9.584497]\n",
      " [-12.344416  -8.160095   9.684187]\n",
      " [-12.168401  -8.426242   9.782642]\n",
      " [-11.98718   -8.695232   9.880001]\n",
      " [-11.808645  -8.959581   9.976153]\n",
      " [-11.624927  -9.226727  10.071174]\n",
      " [-11.443986  -9.489198  10.165022]\n",
      " [-11.257886  -9.754421  10.257707]\n",
      " [-11.074655 -10.01494   10.349255]]\n",
      "postion of Sgr at t_sag of maximum approach: \n",
      " [[ 23.396734   2.675129  -3.183967]\n",
      " [ 23.543204   2.71051   -3.39776 ]\n",
      " [ 23.743544   2.759498  -3.698455]\n",
      " [ 23.743544   2.759498  -3.698455]\n",
      " [ 23.887687   2.794613  -3.911749]\n",
      " [ 24.084667   2.843218  -4.211781]\n",
      " [ 24.22654    2.87807   -4.424546]\n",
      " [ 24.420243   2.926294  -4.723874]\n",
      " [ 24.559906   2.960886  -4.936082]\n",
      " [ 24.750409   3.008734  -5.234667]\n",
      " [ 24.750409   3.008734  -5.234667]\n",
      " [ 25.075299   3.090542  -5.744104]\n",
      " [ 25.075299   3.090542  -5.744104]\n",
      " [ 25.210707   3.124622  -5.955126]\n",
      " [ 25.395039   3.171727  -6.252129]\n",
      " [ 25.528399   3.205555  -6.462527]\n",
      " [ 25.709753   3.252295  -6.758695]\n",
      " [ 25.709753   3.252295  -6.758695]\n",
      " [ 26.019559   3.332253  -7.263758]\n",
      " [ 26.019559   3.332253  -7.263758]\n",
      " [ 26.148973   3.365586  -7.472853]\n",
      " [ 26.324573   3.411607  -7.767278]\n",
      " [ 26.452084   3.444697  -7.975698]\n",
      " [ 26.624906   3.490364  -8.26922 ]\n",
      " [ 26.624906   3.490364  -8.26922 ]\n",
      " [ 26.920663   3.568532  -8.769551]\n",
      " [ 26.920663   3.568532  -8.769551]\n",
      " [ 27.044503   3.601145  -8.976582]\n",
      " [ 27.211949   3.646117  -9.268242]\n",
      " [ 27.211949   3.646117  -9.268242]\n",
      " [ 27.498861   3.723126  -9.765267]\n",
      " [ 27.498861   3.723126  -9.765267]\n",
      " [ 27.619199   3.755274  -9.970865]\n",
      " [ 27.781498   3.799566 -10.260602]\n",
      " [ 27.900144   3.831485 -10.465471]\n",
      " [ 28.059951   3.875442 -10.754227]\n",
      " [ 28.059951   3.875442 -10.754227]\n",
      " [ 28.176943   3.907135 -10.958358]\n",
      " [ 28.33431    3.950763 -11.246124]\n",
      " [ 28.449684   3.982233 -11.44951 ]\n",
      " [ 28.604661   4.025534 -11.736275]\n",
      " [ 28.604661   4.025534 -11.736275]\n",
      " [ 28.718454   4.056784 -11.938911]\n",
      " [ 28.871089   4.099762 -12.224665]\n",
      " [ 28.983334   4.130794 -12.426546]\n",
      " [ 29.133674   4.173452 -12.711283]\n",
      " [ 29.133674   4.173452 -12.711283]\n",
      " [ 29.244403   4.20427  -12.912404]\n",
      " [ 29.392493   4.246613 -13.196117]\n",
      " [ 29.392493   4.246613 -13.196117]\n",
      " [ 29.647624   4.319249 -13.679156]\n",
      " [-14.852615  -1.643324   2.572662]\n",
      " [-14.852615  -1.643324   2.572662]\n",
      " [-14.805894  -1.660771   2.774476]\n",
      " [-14.805894  -1.660771   2.774476]\n",
      " [-14.689897  -1.70326    3.281225]\n",
      " [-14.689897  -1.70326    3.281225]\n",
      " [-14.640349  -1.720408   3.482243]\n",
      " [-14.640349  -1.720408   3.482243]\n",
      " [-14.517465  -1.762136   3.986708]\n",
      " [-14.517465  -1.762136   3.986708]\n",
      " [-14.465148  -1.778976   4.18681 ]\n",
      " [-14.465148  -1.778976   4.18681 ]\n",
      " [-14.335544  -1.819927   4.688705]\n",
      " [-14.335544  -1.819927   4.688705]\n",
      " [-14.335544  -1.819927   4.688705]\n",
      " [-14.280526  -1.83645    4.887781]\n",
      " [-14.280526  -1.83645    4.887781]\n",
      " [-14.144389  -1.87661    5.386838]\n",
      " [-14.144389  -1.87661    5.386838]\n",
      " [-14.086745  -1.892811   5.584784]\n",
      " [-14.086745  -1.892811   5.584784]\n",
      " [-13.94428   -1.932169   6.080754]\n",
      " [-13.94428   -1.932169   6.080754]\n",
      " [-13.884092  -1.948043   6.277475]\n",
      " [-13.884092  -1.948043   6.277475]\n",
      " [-13.735519  -1.986593   6.770131]\n",
      " [-13.735519  -1.986593   6.770131]\n",
      " [-13.672873  -2.002135   6.965538]\n",
      " [-13.672873  -2.002135   6.965538]\n",
      " [-13.518422  -2.039873   7.454674]\n",
      " [-13.518422  -2.039873   7.454674]\n",
      " [-13.453411  -2.055082   7.648689]\n",
      " [-13.453411  -2.055082   7.648689]\n",
      " [-13.293322  -2.092007   8.134121]\n",
      " [-13.293322  -2.092007   8.134121]\n",
      " [-13.226039  -2.106881   8.326674]\n",
      " [-13.226039  -2.106881   8.326674]\n",
      " [-13.060557  -2.142995   8.808238]\n",
      " [-13.060557  -2.142995   8.808238]\n",
      " [-13.060557  -2.142995   8.808238]\n",
      " [-12.9911    -2.157534   8.999266]\n",
      " [-12.9911    -2.157534   8.999266]\n",
      " [-12.820472  -2.192841   9.476822]\n",
      " [-12.820472  -2.192841   9.476822]\n",
      " [-12.748939  -2.207046   9.666271]\n",
      " [-12.748939  -2.207046   9.666271]\n",
      " [-12.573415  -2.241553  10.139695]\n",
      " [-12.573415  -2.241553  10.139695]\n",
      " [-12.499904  -2.255425  10.327521]\n",
      " [-12.499904  -2.255425  10.327521]\n",
      " [-12.319733  -2.289141  10.796712]\n",
      " [-12.319733  -2.289141  10.796712]\n",
      " [-12.244342  -2.302683  10.982876]\n",
      " [-12.244342  -2.302683  10.982876]\n",
      " [-12.059768  -2.335618  11.447749]]\n"
     ]
    }
   ],
   "source": [
    "#min_dist = (argmin(dist_min))\n",
    "r_t = 8\n",
    "min_dist = where(dist_min<= r_t)\n",
    "## Min distance , this have to ve replaces by dist<r_t\n",
    "#print(dist_min[min_dist])\n",
    "\n",
    "# NGC time at which the distance if < r_t\n",
    "#print('Time at which NGC cross through Sag orbit:\\n', t_ngc[min_dist])\n",
    "# Sag time at which the distance if < r_t\n",
    "print('Time of the orbit of Sag at which NGC cross:\\n', t_sag[min_dist])\n",
    "\n",
    "index = np.zeros(len(t_sag[min_dist]), dtype='int')\n",
    "for i in range(len(t_sag[min_dist])):\n",
    "    index[i] = where(t==t_sag[min_dist][i])[0][0]\n",
    "#print(t[index])\n",
    "\n",
    "\n",
    "\n",
    "print('postion of NGC2419 at t_ngc of maximum approach: \\n', r_ngc[min_dist])\n",
    "print('postion of Sgr at t_sag of maximum approach: \\n', r_sag[index])"
   ]
  },
  {
   "cell_type": "code",
   "execution_count": 190,
   "metadata": {
    "collapsed": false
   },
   "outputs": [
    {
     "data": {
      "image/png": "[encoded data removed]",
      "text/plain": [
       "<matplotlib.figure.Figure at 0x7fb2ee0e6d30>"
      ]
     },
     "metadata": {},
     "output_type": "display_data"
    }
   ],
   "source": [
    "plot(t,(r_sag[:,0]**2+r_sag[:,1]**2+r_sag[:,2]**2)**0.5, lw=1)\n",
    "\n",
    "scatter(t[index], np.sqrt(r_sag[index][:,0]**2 + r_sag[index][:,1]**2 + r_sag[index][:,2]**2)\n",
    "       ,c = 'r', s=5)\n",
    "\n",
    "savefig('NGC_passages.pdf', dpi=300, bbox_inches='tight')"
   ]
  },
  {
   "cell_type": "code",
   "execution_count": 181,
   "metadata": {
    "collapsed": false
   },
   "outputs": [
    {
     "data": {
      "text/plain": [
       "array([ 23.396734,  23.543204,  23.743544,  23.743544,  23.887687,\n",
       "        24.084667,  24.22654 ,  24.420243,  24.559906,  24.750409,\n",
       "        24.750409,  25.075299,  25.075299,  25.210707,  25.395039,\n",
       "        25.528399,  25.709753,  25.709753,  26.019559,  26.019559,\n",
       "        26.148973,  26.324573,  26.452084,  26.624906,  26.624906,\n",
       "        26.920663,  26.920663,  27.044503,  27.211949,  27.211949,\n",
       "        27.498861,  27.498861,  27.619199,  27.781498,  27.900144,\n",
       "        28.059951,  28.059951,  28.176943,  28.33431 ,  28.449684,\n",
       "        28.604661,  28.604661,  28.718454,  28.871089,  28.983334,\n",
       "        29.133674,  29.133674,  29.244403,  29.392493,  29.392493,\n",
       "        29.647624, -14.852615, -14.852615, -14.805894, -14.805894,\n",
       "       -14.689897, -14.689897, -14.640349, -14.640349, -14.517465,\n",
       "       -14.517465, -14.465148, -14.465148, -14.335544, -14.335544,\n",
       "       -14.335544, -14.280526, -14.280526, -14.144389, -14.144389,\n",
       "       -14.086745, -14.086745, -13.94428 , -13.94428 , -13.884092,\n",
       "       -13.884092, -13.735519, -13.735519, -13.672873, -13.672873,\n",
       "       -13.518422, -13.518422, -13.453411, -13.453411, -13.293322,\n",
       "       -13.293322, -13.226039, -13.226039, -13.060557, -13.060557,\n",
       "       -13.060557, -12.9911  , -12.9911  , -12.820472, -12.820472,\n",
       "       -12.748939, -12.748939, -12.573415, -12.573415, -12.499904,\n",
       "       -12.499904, -12.319733, -12.319733, -12.244342, -12.244342,\n",
       "       -12.059768])"
      ]
     },
     "execution_count": 181,
     "metadata": {},
     "output_type": "execute_result"
    }
   ],
   "source": [
    "r_sag[index][:,0]"
   ]
  },
  {
   "cell_type": "code",
   "execution_count": 154,
   "metadata": {
    "collapsed": false
   },
   "outputs": [
    {
     "data": {
      "text/plain": [
       "-1.7150000000000001"
      ]
     },
     "execution_count": 154,
     "metadata": {},
     "output_type": "execute_result"
    }
   ],
   "source": [
    "t_sag[min_dist][0]"
   ]
  },
  {
   "cell_type": "code",
   "execution_count": null,
   "metadata": {
    "collapsed": true
   },
   "outputs": [],
   "source": []
  }
 ],
 "metadata": {
  "kernelspec": {
   "display_name": "Python 3",
   "language": "python",
   "name": "python3"
  },
  "language_info": {
   "codemirror_mode": {
    "name": "ipython",
    "version": 3
   },
   "file_extension": ".py",
   "mimetype": "text/x-python",
   "name": "python",
   "nbconvert_exporter": "python",
   "pygments_lexer": "ipython3",
   "version": "3.4.3"
  }
 },
 "nbformat": 4,
 "nbformat_minor": 0
}
