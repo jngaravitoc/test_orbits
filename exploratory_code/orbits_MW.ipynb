{
 "cells": [
  {
   "cell_type": "code",
   "execution_count": 1,
   "metadata": {
    "collapsed": false
   },
   "outputs": [
    {
     "name": "stderr",
     "output_type": "stream",
     "text": [
      "/usr/lib/python3/dist-packages/matplotlib/__init__.py:760: UserWarning: Found matplotlib configuration in ~/.matplotlib/. To conform with the XDG base directory standard, this configuration location has been deprecated on Linux, and the new location is now '/home/ngaravito/.config'/matplotlib/. Please move your configuration there to ensure that matplotlib will continue to find it in the future.\n",
      "  _get_xdg_config_dir())\n"
     ]
    },
    {
     "name": "stdout",
     "output_type": "stream",
     "text": [
      "Populating the interactive namespace from numpy and matplotlib\n"
     ]
    }
   ],
   "source": [
    "%pylab inline\n",
    "\n",
    "from soda import *\n",
    "import pdb"
   ]
  },
  {
   "cell_type": "markdown",
   "metadata": {},
   "source": [
    "# To - DO \n",
    "\n",
    "1. Check that orbits and soda gave the same orbit.\n",
    "2. Implement orbit with LMC potential. LMC1, LMC2, LMC3, LMC4 etc.. \n",
    "3. Make orbit projections.\n",
    "4. Make separate LMC integration!"
   ]
  },
  {
   "cell_type": "code",
   "execution_count": 2,
   "metadata": {
    "collapsed": false
   },
   "outputs": [],
   "source": [
    "time = 4\n",
    "pos_sat = [-87.43, -0.51, 37.31]\n",
    "vel_sat = [16.55, 48.46, -31.33]\n",
    "pos_host = [0, 0, 0]\n",
    "vel_host = [0, 0, 0]\n",
    "fuck_model = ['hernquist', 0.001, 5, 5]\n",
    "host_model = ['NFW', 1.2, 261/26.47, 9.86]\n",
    "disk_params = [6.5E10, 3.1, 0.53]\n",
    "bulge_params = [1E10, 0.7]\n"
   ]
  },
  {
   "cell_type": "code",
   "execution_count": 3,
   "metadata": {
    "collapsed": false
   },
   "outputs": [],
   "source": [
    "t, posNGC, velNGC = leapfrog.integrate_mw(time, pos_sat, vel_sat, host_model, disk_params, bulge_params, direction=1)"
   ]
  },
  {
   "cell_type": "code",
   "execution_count": 4,
   "metadata": {
    "collapsed": false
   },
   "outputs": [
    {
     "data": {
      "text/plain": [
       "[<matplotlib.lines.Line2D at 0x7f92547789b0>]"
      ]
     },
     "execution_count": 4,
     "metadata": {},
     "output_type": "execute_result"
    },
    {
     "data": {
      "image/png": "[encoded data removed]",
      "text/plain": [
       "<matplotlib.figure.Figure at 0x7f9254755438>"
      ]
     },
     "metadata": {},
     "output_type": "display_data"
    }
   ],
   "source": [
    "plot(posNGC[:,0], posNGC[:,2])\n",
    "#plot(posMW[:,0], posMW[:,1])"
   ]
  },
  {
   "cell_type": "code",
   "execution_count": 5,
   "metadata": {
    "collapsed": true
   },
   "outputs": [],
   "source": [
    "pos_sat2 = [1E6, 0, 0]\n",
    "vel_sat2 = [0, 0, 0]"
   ]
  },
  {
   "cell_type": "code",
   "execution_count": 6,
   "metadata": {
    "collapsed": true
   },
   "outputs": [],
   "source": [
    "LMC_model = ['hernquist', 0.001, 5, 5]\n",
    "pos_LMC = [-87.43, -0.51, 37.31]\n",
    "vel_LMC = [16.55, 48.46, -31.33]"
   ]
  },
  {
   "cell_type": "code",
   "execution_count": 9,
   "metadata": {
    "collapsed": false
   },
   "outputs": [
    {
     "name": "stdout",
     "output_type": "stream",
     "text": [
      "[16.55, 48.46, -31.33]\n"
     ]
    },
    {
     "ename": "UnboundLocalError",
     "evalue": "local variable 'sat_model' referenced before assignment",
     "output_type": "error",
     "traceback": [
      "\u001b[0;31m---------------------------------------------------------------------------\u001b[0m",
      "\u001b[0;31mUnboundLocalError\u001b[0m                         Traceback (most recent call last)",
      "\u001b[0;32m<ipython-input-9-f1954b6ffb79>\u001b[0m in \u001b[0;36m<module>\u001b[0;34m()\u001b[0m\n\u001b[0;32m----> 1\u001b[0;31m \u001b[0mt\u001b[0m\u001b[0;34m,\u001b[0m \u001b[0mposLMC\u001b[0m\u001b[0;34m,\u001b[0m \u001b[0mvelLMC\u001b[0m\u001b[0;34m,\u001b[0m \u001b[0mposMW\u001b[0m\u001b[0;34m,\u001b[0m \u001b[0mvelMW\u001b[0m\u001b[0;34m,\u001b[0m \u001b[0mposNGC2\u001b[0m\u001b[0;34m,\u001b[0m \u001b[0mvelNGC2\u001b[0m \u001b[0;34m=\u001b[0m \u001b[0mleapfrog\u001b[0m\u001b[0;34m.\u001b[0m\u001b[0mintegrate_sat\u001b[0m\u001b[0;34m(\u001b[0m\u001b[0mtime\u001b[0m\u001b[0;34m,\u001b[0m \u001b[0mpos_host\u001b[0m\u001b[0;34m,\u001b[0m \u001b[0mvel_host\u001b[0m\u001b[0;34m,\u001b[0m \u001b[0mhost_model\u001b[0m\u001b[0;34m,\u001b[0m                                                                           \u001b[0mdisk_params\u001b[0m\u001b[0;34m,\u001b[0m \u001b[0mbulge_params\u001b[0m\u001b[0;34m,\u001b[0m \u001b[0mpos_sat\u001b[0m\u001b[0;34m=\u001b[0m\u001b[0mpos_LMC\u001b[0m\u001b[0;34m,\u001b[0m                                                                           \u001b[0mvel_sat\u001b[0m\u001b[0;34m=\u001b[0m\u001b[0mvel_LMC\u001b[0m\u001b[0;34m,\u001b[0m \u001b[0msat_model\u001b[0m\u001b[0;34m=\u001b[0m\u001b[0mLMC_model\u001b[0m\u001b[0;34m)\u001b[0m\u001b[0;34m\u001b[0m\u001b[0m\n\u001b[0m",
      "\u001b[0;32m/usr/local/lib/python3.4/dist-packages/SODA-0.1-py3.4.egg/soda/leapfrog.py\u001b[0m in \u001b[0;36mintegrate_sat\u001b[0;34m(time, pos_host, vel_host, host_model, disk_params, bulge_params, ac, dfric, alpha, host_move, direction, dt, **kwargs)\u001b[0m\n\u001b[1;32m    241\u001b[0m \u001b[0;34m\u001b[0m\u001b[0m\n\u001b[1;32m    242\u001b[0m     \u001b[0mprint\u001b[0m\u001b[0;34m(\u001b[0m\u001b[0mvel_sat\u001b[0m\u001b[0;34m)\u001b[0m\u001b[0;34m\u001b[0m\u001b[0m\n\u001b[0;32m--> 243\u001b[0;31m     \u001b[0mprint\u001b[0m\u001b[0;34m(\u001b[0m\u001b[0msat_model\u001b[0m\u001b[0;34m)\u001b[0m\u001b[0;34m\u001b[0m\u001b[0m\n\u001b[0m\u001b[1;32m    244\u001b[0m \u001b[0;34m\u001b[0m\u001b[0m\n\u001b[1;32m    245\u001b[0m     \u001b[0;32mif\u001b[0m \u001b[0;34m'lmc_model'\u001b[0m \u001b[0;32min\u001b[0m \u001b[0mkwargs\u001b[0m\u001b[0;34m:\u001b[0m\u001b[0;34m\u001b[0m\u001b[0m\n",
      "\u001b[0;31mUnboundLocalError\u001b[0m: local variable 'sat_model' referenced before assignment"
     ]
    }
   ],
   "source": [
    "t, posLMC, velLMC, posMW, velMW, posNGC2, velNGC2 = leapfrog.integrate_sat(time, pos_host, vel_host, host_model,\\\n",
    "                                                                           disk_params, bulge_params, pos_sat=pos_LMC,\\\n",
    "                                                                           vel_sat=vel_LMC, sat_model=LMC_model)"
   ]
  },
  {
   "cell_type": "code",
   "execution_count": 13,
   "metadata": {
    "collapsed": false
   },
   "outputs": [
    {
     "data": {
      "text/plain": [
       "(35, 80)"
      ]
     },
     "execution_count": 13,
     "metadata": {},
     "output_type": "execute_result"
    },
    {
     "data": {
      "image/png": "[encoded data removed]",
      "text/plain": [
       "<matplotlib.figure.Figure at 0x7fcab4e2fcc0>"
      ]
     },
     "metadata": {},
     "output_type": "display_data"
    }
   ],
   "source": [
    "#plot(posNGC[:,0], posNGC[:,2])\n",
    "plot(posNGC2[:,0], posNGC2[:,2])\n",
    "xlim(-95, -75)\n",
    "ylim(35, 80)"
   ]
  },
  {
   "cell_type": "code",
   "execution_count": 7,
   "metadata": {
    "collapsed": true
   },
   "outputs": [],
   "source": [
    "NGC2419_orbit = np.loadtxt('../../orbits/data/NGC2419/NGC2419_MW_sat.txt')\n",
    "NGC2419_orbit_host = np.loadtxt('../../orbits/data/NGC2419/NGC2419_MW_host.txt')"
   ]
  },
  {
   "cell_type": "code",
   "execution_count": 8,
   "metadata": {
    "collapsed": false
   },
   "outputs": [
    {
     "data": {
      "text/plain": [
       "(200, 7)"
      ]
     },
     "execution_count": 8,
     "metadata": {},
     "output_type": "execute_result"
    }
   ],
   "source": [
    "shape(NGC2419_orbit)"
   ]
  },
  {
   "cell_type": "code",
   "execution_count": 9,
   "metadata": {
    "collapsed": false
   },
   "outputs": [
    {
     "data": {
      "text/plain": [
       "[<matplotlib.lines.Line2D at 0x7fdc036898d0>]"
      ]
     },
     "execution_count": 9,
     "metadata": {},
     "output_type": "execute_result"
    },
    {
     "data": {
      "image/png": "[encoded data removed]",
      "text/plain": [
       "<matplotlib.figure.Figure at 0x7fdc0b25f160>"
      ]
     },
     "metadata": {},
     "output_type": "display_data"
    }
   ],
   "source": [
    "plot(NGC2419_orbit[:,1], NGC2419_orbit[:,3])"
   ]
  },
  {
   "cell_type": "code",
   "execution_count": 10,
   "metadata": {
    "collapsed": false
   },
   "outputs": [
    {
     "data": {
      "text/plain": [
       "[<matplotlib.lines.Line2D at 0x7fdc035e2908>]"
      ]
     },
     "execution_count": 10,
     "metadata": {},
     "output_type": "execute_result"
    },
    {
     "data": {
      "image/png": "[encoded data removed]",
      "text/plain": [
       "<matplotlib.figure.Figure at 0x7fdc400cb4a8>"
      ]
     },
     "metadata": {},
     "output_type": "display_data"
    }
   ],
   "source": [
    "plot(NGC2419_orbit_host[:,1], NGC2419_orbit_host[:,2])"
   ]
  },
  {
   "cell_type": "code",
   "execution_count": 62,
   "metadata": {
    "collapsed": false
   },
   "outputs": [
    {
     "name": "stdout",
     "output_type": "stream",
     "text": [
      "{'z': 5, 'h': 3, 'kwargs': {'z': 5, 'h': 3}}\n"
     ]
    }
   ],
   "source": [
    "rest_mass(h=3, z=5)"
   ]
  },
  {
   "cell_type": "code",
   "execution_count": 11,
   "metadata": {
    "collapsed": true
   },
   "outputs": [],
   "source": [
    "def extract(dct, namespace=None):\n",
    "    if not namespace: namespace = globals()\n",
    "    namespace.update(dct)\n"
   ]
  },
  {
   "cell_type": "code",
   "execution_count": 12,
   "metadata": {
    "collapsed": false
   },
   "outputs": [],
   "source": [
    "def rest_mass(**kwargs):\n",
    "    #print(type(kwargs))\n",
    "    #print(kwargs.items())\n",
    "    extract(kwargs)\n",
    "    print(z)\n",
    "\n",
    "    if 'x' in kwargs:\n",
    "        print(x)\n",
    "        print(x[0])"
   ]
  },
  {
   "cell_type": "code",
   "execution_count": 24,
   "metadata": {
    "collapsed": false
   },
   "outputs": [
    {
     "name": "stdout",
     "output_type": "stream",
     "text": [
      "4\n",
      "['hola', 5, 6]\n",
      "hola\n"
     ]
    }
   ],
   "source": [
    "rest_mass(z=4, x=['hola', 5, 6])"
   ]
  },
  {
   "cell_type": "code",
   "execution_count": null,
   "metadata": {
    "collapsed": true
   },
   "outputs": [],
   "source": []
  }
 ],
 "metadata": {
  "kernelspec": {
   "display_name": "Python 3",
   "language": "python",
   "name": "python3"
  },
  "language_info": {
   "codemirror_mode": {
    "name": "ipython",
    "version": 3
   },
   "file_extension": ".py",
   "mimetype": "text/x-python",
   "name": "python",
   "nbconvert_exporter": "python",
   "pygments_lexer": "ipython3",
   "version": "3.4.3"
  }
 },
 "nbformat": 4,
 "nbformat_minor": 0
}
